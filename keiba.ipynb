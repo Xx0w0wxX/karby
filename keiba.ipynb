{
  "nbformat": 4,
  "nbformat_minor": 0,
  "metadata": {
    "colab": {
      "name": "keiba.ipynb",
      "provenance": [],
      "collapsed_sections": []
    },
    "kernelspec": {
      "name": "python3",
      "display_name": "Python 3"
    },
    "widgets": {
      "application/vnd.jupyter.widget-state+json": {
        "e36256393137470e97f2265f211e7a95": {
          "model_module": "@jupyter-widgets/controls",
          "model_name": "HBoxModel",
          "state": {
            "_view_name": "HBoxView",
            "_dom_classes": [],
            "_model_name": "HBoxModel",
            "_view_module": "@jupyter-widgets/controls",
            "_model_module_version": "1.5.0",
            "_view_count": null,
            "_view_module_version": "1.5.0",
            "box_style": "",
            "layout": "IPY_MODEL_b75c1cd2741c48cbbadd443449c3d792",
            "_model_module": "@jupyter-widgets/controls",
            "children": [
              "IPY_MODEL_6ca749f352a5420fbebd9cd5938c011e",
              "IPY_MODEL_c784cfdff168426db3124cc09a3ea74f"
            ]
          }
        },
        "b75c1cd2741c48cbbadd443449c3d792": {
          "model_module": "@jupyter-widgets/base",
          "model_name": "LayoutModel",
          "state": {
            "_view_name": "LayoutView",
            "grid_template_rows": null,
            "right": null,
            "justify_content": null,
            "_view_module": "@jupyter-widgets/base",
            "overflow": null,
            "_model_module_version": "1.2.0",
            "_view_count": null,
            "flex_flow": null,
            "width": null,
            "min_width": null,
            "border": null,
            "align_items": null,
            "bottom": null,
            "_model_module": "@jupyter-widgets/base",
            "top": null,
            "grid_column": null,
            "overflow_y": null,
            "overflow_x": null,
            "grid_auto_flow": null,
            "grid_area": null,
            "grid_template_columns": null,
            "flex": null,
            "_model_name": "LayoutModel",
            "justify_items": null,
            "grid_row": null,
            "max_height": null,
            "align_content": null,
            "visibility": null,
            "align_self": null,
            "height": null,
            "min_height": null,
            "padding": null,
            "grid_auto_rows": null,
            "grid_gap": null,
            "max_width": null,
            "order": null,
            "_view_module_version": "1.2.0",
            "grid_template_areas": null,
            "object_position": null,
            "object_fit": null,
            "grid_auto_columns": null,
            "margin": null,
            "display": null,
            "left": null
          }
        },
        "6ca749f352a5420fbebd9cd5938c011e": {
          "model_module": "@jupyter-widgets/controls",
          "model_name": "FloatProgressModel",
          "state": {
            "_view_name": "ProgressView",
            "style": "IPY_MODEL_78090f261999423295d164c49381793a",
            "_dom_classes": [],
            "description": "100%",
            "_model_name": "FloatProgressModel",
            "bar_style": "success",
            "max": 1,
            "_view_module": "@jupyter-widgets/controls",
            "_model_module_version": "1.5.0",
            "value": 1,
            "_view_count": null,
            "_view_module_version": "1.5.0",
            "orientation": "horizontal",
            "min": 0,
            "description_tooltip": null,
            "_model_module": "@jupyter-widgets/controls",
            "layout": "IPY_MODEL_2fbf59d6c46b429585fd6a0a72fe00a6"
          }
        },
        "c784cfdff168426db3124cc09a3ea74f": {
          "model_module": "@jupyter-widgets/controls",
          "model_name": "HTMLModel",
          "state": {
            "_view_name": "HTMLView",
            "style": "IPY_MODEL_c0e2190cf8f14579980f66eda020c487",
            "_dom_classes": [],
            "description": "",
            "_model_name": "HTMLModel",
            "placeholder": "​",
            "_view_module": "@jupyter-widgets/controls",
            "_model_module_version": "1.5.0",
            "value": " 1/1 [00:44&lt;00:00, 44.17s/it]",
            "_view_count": null,
            "_view_module_version": "1.5.0",
            "description_tooltip": null,
            "_model_module": "@jupyter-widgets/controls",
            "layout": "IPY_MODEL_3c8332d6f976497bab55890296141bac"
          }
        },
        "78090f261999423295d164c49381793a": {
          "model_module": "@jupyter-widgets/controls",
          "model_name": "ProgressStyleModel",
          "state": {
            "_view_name": "StyleView",
            "_model_name": "ProgressStyleModel",
            "description_width": "initial",
            "_view_module": "@jupyter-widgets/base",
            "_model_module_version": "1.5.0",
            "_view_count": null,
            "_view_module_version": "1.2.0",
            "bar_color": null,
            "_model_module": "@jupyter-widgets/controls"
          }
        },
        "2fbf59d6c46b429585fd6a0a72fe00a6": {
          "model_module": "@jupyter-widgets/base",
          "model_name": "LayoutModel",
          "state": {
            "_view_name": "LayoutView",
            "grid_template_rows": null,
            "right": null,
            "justify_content": null,
            "_view_module": "@jupyter-widgets/base",
            "overflow": null,
            "_model_module_version": "1.2.0",
            "_view_count": null,
            "flex_flow": null,
            "width": null,
            "min_width": null,
            "border": null,
            "align_items": null,
            "bottom": null,
            "_model_module": "@jupyter-widgets/base",
            "top": null,
            "grid_column": null,
            "overflow_y": null,
            "overflow_x": null,
            "grid_auto_flow": null,
            "grid_area": null,
            "grid_template_columns": null,
            "flex": null,
            "_model_name": "LayoutModel",
            "justify_items": null,
            "grid_row": null,
            "max_height": null,
            "align_content": null,
            "visibility": null,
            "align_self": null,
            "height": null,
            "min_height": null,
            "padding": null,
            "grid_auto_rows": null,
            "grid_gap": null,
            "max_width": null,
            "order": null,
            "_view_module_version": "1.2.0",
            "grid_template_areas": null,
            "object_position": null,
            "object_fit": null,
            "grid_auto_columns": null,
            "margin": null,
            "display": null,
            "left": null
          }
        },
        "c0e2190cf8f14579980f66eda020c487": {
          "model_module": "@jupyter-widgets/controls",
          "model_name": "DescriptionStyleModel",
          "state": {
            "_view_name": "StyleView",
            "_model_name": "DescriptionStyleModel",
            "description_width": "",
            "_view_module": "@jupyter-widgets/base",
            "_model_module_version": "1.5.0",
            "_view_count": null,
            "_view_module_version": "1.2.0",
            "_model_module": "@jupyter-widgets/controls"
          }
        },
        "3c8332d6f976497bab55890296141bac": {
          "model_module": "@jupyter-widgets/base",
          "model_name": "LayoutModel",
          "state": {
            "_view_name": "LayoutView",
            "grid_template_rows": null,
            "right": null,
            "justify_content": null,
            "_view_module": "@jupyter-widgets/base",
            "overflow": null,
            "_model_module_version": "1.2.0",
            "_view_count": null,
            "flex_flow": null,
            "width": null,
            "min_width": null,
            "border": null,
            "align_items": null,
            "bottom": null,
            "_model_module": "@jupyter-widgets/base",
            "top": null,
            "grid_column": null,
            "overflow_y": null,
            "overflow_x": null,
            "grid_auto_flow": null,
            "grid_area": null,
            "grid_template_columns": null,
            "flex": null,
            "_model_name": "LayoutModel",
            "justify_items": null,
            "grid_row": null,
            "max_height": null,
            "align_content": null,
            "visibility": null,
            "align_self": null,
            "height": null,
            "min_height": null,
            "padding": null,
            "grid_auto_rows": null,
            "grid_gap": null,
            "max_width": null,
            "order": null,
            "_view_module_version": "1.2.0",
            "grid_template_areas": null,
            "object_position": null,
            "object_fit": null,
            "grid_auto_columns": null,
            "margin": null,
            "display": null,
            "left": null
          }
        }
      }
    }
  },
  "cells": [
    {
      "cell_type": "code",
      "metadata": {
        "id": "Xvn3kW7ShiBu",
        "colab_type": "code",
        "colab": {}
      },
      "source": [
        "!apt-get update 1>/dev/null 2>/dev/null\n",
        "!apt-get install chromium-chromedriver 1>/dev/null 2>/dev/null\n",
        "# !cp /usr/lib/chromium-browser/chromedriver /usr/bin\n",
        "!pip install selenium 1>/dev/null 2>/dev/null"
      ],
      "execution_count": 1,
      "outputs": []
    },
    {
      "cell_type": "code",
      "metadata": {
        "id": "wo6epb4PhidL",
        "colab_type": "code",
        "colab": {}
      },
      "source": [
        "from selenium.webdriver import Chrome\n",
        "from selenium.webdriver.chrome.options import Options\n",
        "from selenium.webdriver.common.keys import Keys\n",
        "from selenium.webdriver.support.ui import Select\n",
        "import math\n",
        "from bs4 import BeautifulSoup\n",
        "from selenium import webdriver"
      ],
      "execution_count": 2,
      "outputs": []
    },
    {
      "cell_type": "code",
      "metadata": {
        "id": "NKY0NgrWiOtb",
        "colab_type": "code",
        "colab": {}
      },
      "source": [
        "BASE_URL = 'https://db.netkeiba.com/'\n",
        "endpoint = '?pid=race_search_detail'"
      ],
      "execution_count": 3,
      "outputs": []
    },
    {
      "cell_type": "code",
      "metadata": {
        "id": "3lJl4_nndvO8",
        "colab_type": "code",
        "colab": {
          "base_uri": "https://localhost:8080/",
          "height": 68
        },
        "outputId": "c5781184-d095-43de-8c90-c54e63f027bc"
      },
      "source": [
        "!pip install tqdm\n",
        "!jupyter nbextension enable --py --sys-prefix widgetsnbextension\n",
        "from tqdm import tqdm_notebook as tqdm\n",
        "import re"
      ],
      "execution_count": 4,
      "outputs": [
        {
          "output_type": "stream",
          "text": [
            "Requirement already satisfied: tqdm in /usr/local/lib/python3.6/dist-packages (4.41.1)\n",
            "Enabling notebook extension jupyter-js-widgets/extension...\n",
            "      - Validating: \u001b[32mOK\u001b[0m\n"
          ],
          "name": "stdout"
        }
      ]
    },
    {
      "cell_type": "code",
      "metadata": {
        "id": "FGCDg_bRcG_Z",
        "colab_type": "code",
        "colab": {
          "base_uri": "https://localhost:8080/",
          "height": 100,
          "referenced_widgets": [
            "e36256393137470e97f2265f211e7a95",
            "b75c1cd2741c48cbbadd443449c3d792",
            "6ca749f352a5420fbebd9cd5938c011e",
            "c784cfdff168426db3124cc09a3ea74f",
            "78090f261999423295d164c49381793a",
            "2fbf59d6c46b429585fd6a0a72fe00a6",
            "c0e2190cf8f14579980f66eda020c487",
            "3c8332d6f976497bab55890296141bac"
          ]
        },
        "outputId": "c1ea01b9-a8b3-438d-8e1a-2f7f10fec745"
      },
      "source": [
        "options = webdriver.ChromeOptions()\n",
        "options.add_argument('--headless')\n",
        "options.add_argument('--no-sandbox')\n",
        "options.add_argument('--disable-dev-shm-usage')\n",
        "# /usr/lib/chromium-browser/chromedriver\n",
        "driver = webdriver.Chrome('chromedriver', options=options)\n",
        "driver.implicitly_wait(3)\n",
        "driver.get(BASE_URL + endpoint)\n",
        "\n",
        "### 以下の項目で収穫対象をunコメントしてください。\n",
        "\n",
        "## 競走種別\n",
        "driver.find_element_by_id('check_track_1').click() # 芝\n",
        "driver.find_element_by_id('check_track_2').click() # ダート\n",
        "driver.find_element_by_id('check_track_3').click() # 障害\n",
        "\n",
        "## 期間\n",
        "links_num = driver.find_element_by_name('list')\n",
        "nums_element = Select(links_num)\n",
        "# nums_element.select_by_value(\"20\")\n",
        "# nums_element.select_by_value(\"50\")\n",
        "nums_element.select_by_value(\"100\")\n",
        "\n",
        "## 競馬場\n",
        "# driver.find_element_by_id('check_Jyo_01').click() # 札幌\n",
        "# driver.find_element_by_id('check_Jyo_02').click() # 函館\n",
        "# driver.find_element_by_id('check_Jyo_03').click() # 福島\n",
        "# driver.find_element_by_id('check_Jyo_04').click() # 新潟\n",
        "driver.find_element_by_id('check_Jyo_05').click() # 東京\n",
        "# driver.find_element_by_id('check_Jyo_06').click() # 中山\n",
        "# driver.find_element_by_id('check_Jyo_07').click() # 中京\n",
        "# driver.find_element_by_id('check_Jyo_08').click() # 京都\n",
        "# driver.find_element_by_id('check_Jyo_09').click() # 阪神\n",
        "# driver.find_element_by_id('check_Jyo_10').click() # 小倉\n",
        "\n",
        "## 馬場状態\n",
        "# driver.find_element_by_id('check_baba_1').click() # 良\n",
        "# driver.find_element_by_id('check_baba_2').click() # 稍重\n",
        "# driver.find_element_by_id('check_baba_3').click() # 重\n",
        "# driver.find_element_by_id('check_baba_4').click() # 不良\n",
        "\n",
        "## 条件\n",
        "# driver.find_element_by_id('check_jyoken_1').click() # 牝馬限定\n",
        "# driver.find_element_by_id('check_jyoken_2').click() # 父内国産限定\n",
        "# driver.find_element_by_id('check_jyoken_3').click() # アラブ\n",
        "# driver.find_element_by_id('check_jyoken_4').click() # 指定\n",
        "# driver.find_element_by_id('check_jyoken_5').click() # 混合\n",
        "# driver.find_element_by_id('check_jyoken_6').click() # 特指\n",
        "# driver.find_element_by_id('check_jyoken_7').click() # 国際\n",
        "\n",
        "## 馬齢\n",
        "# driver.find_element_by_id('check_barei_11').click() # ２歳\n",
        "# driver.find_element_by_id('check_barei_12').click() # ３歳\n",
        "# driver.find_element_by_id('check_barei_13').click() # ３歳以上\n",
        "# driver.find_element_by_id('check_barei_14').click() # ４歳以上\n",
        "\n",
        "## クラス\n",
        "# driver.find_element_by_id('check_grade_1').click() # G1\n",
        "# driver.find_element_by_id('check_grade_2').click() # G2\n",
        "# driver.find_element_by_id('check_grade_3').click() # G3\n",
        "# driver.find_element_by_id('check_grade_4').click() # OP\n",
        "# driver.find_element_by_id('check_grade_5').click() # 1600万\n",
        "# driver.find_element_by_id('check_grade_6').click() # 1000万\n",
        "# driver.find_element_by_id('check_grade_7').click() # 500万\n",
        "# driver.find_element_by_id('check_grade_8').click() # 新馬\n",
        "# driver.find_element_by_id('check_grade_9').click() # 未勝利\n",
        "# driver.find_element_by_id('check_grade_10').click() # 未出走\n",
        "\n",
        "## 表示件数\n",
        "links_num = driver.find_element_by_name('list')\n",
        "nums_element = Select(links_num)\n",
        "nums_element.select_by_value(\"100\")\n",
        "driver.find_element_by_class_name('button').send_keys(Keys.ENTER)\n",
        "\n",
        "\n",
        "soup = BeautifulSoup(driver.page_source, 'html.parser')\n",
        "num_pattern = '\\d+'\n",
        "total_race_link = re.search(num_pattern, soup.find(id=\"contents_liquid\").find(class_='pager').text.strip().replace(',', '')).group()\n",
        "total_search_page = math.ceil(int(total_race_link)/100)\n",
        "\n",
        "all_race_links = []\n",
        "filename = 'out.txt'\n",
        "\n",
        "with open(filename, mode='w') as f:\n",
        "  for i in tqdm(range(1, total_search_page)):\n",
        "      soup = BeautifulSoup(driver.page_source, 'html.parser')\n",
        "      pattern = '/race/\\d+/'\n",
        "      for a in soup.find_all('a', href=True):\n",
        "        if re.search(pattern, a['href']):\n",
        "          f.write(a['href'].split('/')[2] + '\\n')\n",
        "          all_race_links.append(a['href'].split('/')[2])\n",
        "      driver.execute_script(\"paging('{}')\".format(i+1))"
      ],
      "execution_count": 6,
      "outputs": [
        {
          "output_type": "stream",
          "text": [
            "/usr/local/lib/python3.6/dist-packages/ipykernel_launcher.py:85: TqdmDeprecationWarning: This function will be removed in tqdm==5.0.0\n",
            "Please use `tqdm.notebook.tqdm` instead of `tqdm.tqdm_notebook`\n"
          ],
          "name": "stderr"
        },
        {
          "output_type": "display_data",
          "data": {
            "application/vnd.jupyter.widget-view+json": {
              "model_id": "e36256393137470e97f2265f211e7a95",
              "version_minor": 0,
              "version_major": 2
            },
            "text/plain": [
              "HBox(children=(FloatProgress(value=0.0, max=1.0), HTML(value='')))"
            ]
          },
          "metadata": {
            "tags": []
          }
        },
        {
          "output_type": "stream",
          "text": [
            "\n"
          ],
          "name": "stdout"
        }
      ]
    },
    {
      "cell_type": "code",
      "metadata": {
        "id": "RrPpCFPcV81r",
        "colab_type": "code",
        "colab": {
          "base_uri": "https://localhost:8080/",
          "height": 34
        },
        "outputId": "5093199e-6a2e-4810-a3f9-ce0043b26536"
      },
      "source": [
        "ls"
      ],
      "execution_count": 7,
      "outputs": [
        {
          "output_type": "stream",
          "text": [
            "out.txt  \u001b[0m\u001b[01;34msample_data\u001b[0m/\n"
          ],
          "name": "stdout"
        }
      ]
    },
    {
      "cell_type": "code",
      "metadata": {
        "id": "PcSZpVdjV85N",
        "colab_type": "code",
        "colab": {}
      },
      "source": [
        "import requests\n",
        "import math\n",
        "from bs4 import BeautifulSoup\n",
        "\n",
        "class race:\n",
        "\n",
        "    BASE_URL = 'https://race.netkeiba.com/'\n",
        "\n",
        "    def __init__(self, race_endpoints=[]):\n",
        "        race_endpoints = race_endpoints\n",
        "\n",
        "    def fetch(self, race_id):\n",
        "        html = requests.get('https://race.netkeiba.com/race/result.html?race_id=' + race_id + '&rf=race_submenu')\n",
        "        return BeautifulSoup(html.content, 'lxml')\n",
        "\n",
        "    def race_result(self, race_id):\n",
        "        soup = self.fetch(race_id)\n",
        "        result_table_soup = soup.find(\"table\", {\"class\": 'RaceTable01 RaceCommon_Table ResultRefund Table_Show_All'})\n",
        "        col_num = 15\n",
        "        rows = []\n",
        "        row = []\n",
        "        for col in result_table_soup.find(\"tbody\").findAll([\"tr\", \"td\"]):\n",
        "            if (list(set(['FirstDisplay', 'HorseList']) & set(col['class']))):\n",
        "                continue\n",
        "            row.append(col.text.strip())\n",
        "            # TODO\n",
        "            # ここで騎手と馬のクロールを流す\n",
        "            # if (col['class'] == ['Jockey']):\n",
        "            # print(col.find('a')['href'])\n",
        "            # if (col['class'] == ['Horse_Info']) and (col.find('a') != None):\n",
        "            # print(col.find('a')['href'])\n",
        "            if (col['class'] == ['Weight']):\n",
        "                rows.append(row)\n",
        "                row = []\n",
        "        return rows\n",
        "\n",
        "    def payback(self, race_id):\n",
        "        soup = self.fetch(race_id)\n",
        "        pay_table_souplen = soup.findAll(\"table\", {\"class\": 'Payout_Detail_Table'})\n",
        "        paybacks = []\n",
        "        for sub_pay_table in pay_table_souplen:\n",
        "            for col in sub_pay_table.find(\"tbody\").findAll([\"tr\", \"td\"]):\n",
        "                if (col['class'] == ['Tansho']):\n",
        "                    paybacks.append(col.find(class_='Payout').text.replace(',', '').strip('円'))\n",
        "                if (col['class'] == ['Fukusho']):\n",
        "                    paybacks.extend(col.find(class_='Payout').text.replace(',', '').strip().split('円')[:3])\n",
        "                if (col['class'] == ['Wakuren']):\n",
        "                    paybacks.append(col.find(class_='Payout').text.replace(',', '').strip('円'))\n",
        "                if (col['class'] == ['Umaren']):\n",
        "                    paybacks.append(col.find(class_='Payout').text.replace(',', '').strip('円'))\n",
        "                if (col['class'] == ['Wide']):\n",
        "                    paybacks.extend(col.find(class_='Payout').text.replace(',', '').strip().split('円')[:3])\n",
        "                if (col['class'] == ['Umatan']):\n",
        "                    paybacks.append(col.find(class_='Payout').text.replace(',', '').strip('円'))\n",
        "                if (col['class'] == ['Fuku3']):\n",
        "                    paybacks.append(col.find(class_='Payout').text.replace(',', '').strip('円'))\n",
        "                if (col['class'] == ['Tan3']):\n",
        "                    paybacks.append(col.find(class_='Payout').text.replace(',', '').strip('円'))\n",
        "        return paybacks\n",
        "\n",
        "    def raptime(self, race_id):\n",
        "        soup = self.fetch(race_id)\n",
        "        raptime_table_souplen = soup.find(\"table\", {\"class\": 'RaceCommon_Table Race_HaronTime'})\n",
        "        raptimes_list = ['100m', '200m', '300m', '400m', '500m', '600m', '700m', '800m', '900m',\n",
        "                         '1000m', '1100m', '1200m', '1300m', '1400m', '1500m', '1600m', '1700m',\n",
        "                         '1800m', '1900m', '2000m', '2100m', '2200m', '2300m', '2400m', '2500m', '2600m']\n",
        "        kyoriS = list(map(lambda y: y.text, raptime_table_souplen.find(class_='Header').findAll('th')))\n",
        "        timeS = list(map(lambda y: y.text, raptime_table_souplen.find(class_='HaronTime').findAll('td')))\n",
        "        raptimes = [None] * len(raptimes_list)\n",
        "        for kyori, time in zip(kyoriS, timeS):\n",
        "            raptimes[raptimes_list.index(kyori)] = time\n",
        "        return raptimes"
      ],
      "execution_count": 8,
      "outputs": []
    },
    {
      "cell_type": "code",
      "metadata": {
        "id": "YgUEe64OV8-y",
        "colab_type": "code",
        "colab": {
          "base_uri": "https://localhost:8080/",
          "height": 139
        },
        "outputId": "3ff2d318-a4f4-4f83-fa3d-5b21d1e6efc5"
      },
      "source": [
        "racer = race()\n",
        "race_id = '202009040202'\n",
        "print(racer.race_result(race_id), \"\\n\")\n",
        "print(racer.payback(race_id), \"\\n\")\n",
        "print(racer.raptime(race_id), \"\\n\")"
      ],
      "execution_count": 11,
      "outputs": [
        {
          "output_type": "stream",
          "text": [
            "[['1', '1', '1', 'カケル', '牡3', '56.0', '幸', '1:35.9', '', '2', '4.2', '36.3', '4-5', '栗東大根田', '482(-4)'], ['2', '8', '17', 'アドマイヤパンドラ', '牝3', '54.0', '浜中', '1:36.0', '1/2', '10', '43.6', '35.4', '16-15', '栗東須貝', '452(+8)'], ['3', '8', '16', 'ワールドスケール', '牡3', '56.0', '小崎', '1:36.2', '1.1/4', '3', '5.5', '36.8', '2-2', '栗東野中', '466(-8)'], ['4', '8', '15', 'ガレットデロワ', '牝3', '53.0', '☆富田', '1:36.2', 'クビ', '11', '43.9', '36.1', '12-9', '栗東池添兼', '402(-4)'], ['5', '5', '10', 'レッドエーデル', '牝3', '54.0', '酒井', '1:37.1', '5', '9', '39.9', '36.8', '14-11', '栗東斉藤崇', '448(0)'], ['6', '4', '8', 'レヴィオーサ', '牡3', '56.0', '和田', '1:37.3', '1.1/4', '4', '13.4', '37.9', '9-2', '栗東友道', '450(0)'], ['7', '7', '14', 'サンテルノ', '牡3', '56.0', '北村友', '1:37.3', 'クビ', '8', '38.5', '37.5', '9-7', '栗東池添学', '514(+12)'], ['8', '4', '7', 'パズル', '牡3', '56.0', '藤井勘', '1:37.5', '1', '6', '20.1', '37.8', '5-5', '栗東池江', '490(-4)'], ['9', '7', '13', 'ハーランズハーツ', '牡3', '56.0', '松若風', '1:37.8', '1.3/4', '7', '25.5', '38.0', '5-7', '栗東橋口', '432(-2)'], ['10', '6', '11', 'モルトルバート', 'セ3', '56.0', '川田', '1:37.8', 'ハナ', '5', '15.6', '37.0', '14-16', '栗東松永幹', '432(-4)'], ['11', '6', '12', 'ホワイトロッジ', '牝3', '54.0', '福永', '1:38.2', '2.1/2', '1', '2.0', '38.9', '2-2', '栗東藤岡', '420(-8)'], ['12', '2', '4', 'ワンダーセートティ', '牡3', '56.0', '城戸', '1:38.5', '1.3/4', '17', '439.8', '38.5', '5-9', '栗東牧田', '462(-6)'], ['13', '2', '3', 'トーホウビビアン', '牝3', '53.0', '☆斎藤', '1:39.3', '5', '13', '258.3', '39.1', '12-11', '栗東谷', '474(+20)'], ['14', '3', '5', 'ハヤト', '牡3', '53.0', '▲服部', '1:39.4', 'クビ', '16', '380.7', '39.0', '5-14', '栗東杉山晴', '494(-2)'], ['15', '1', '2', 'スタークラスター', '牡3', '53.0', '▲泉谷', '1:39.7', '1.3/4', '15', '304.5', '39.4', '11-11', '栗東角田', '512(-8)'], ['16', '5', '9', 'ジュアン', '牡3', '56.0', '鮫島駿', '1:39.8', '3/4', '14', '290.0', '40.6', '1-1', '栗東渡辺', '480(-4)'], ['17', '3', '6', 'ミナト', '牡3', '56.0', '松山', '1:40.9', '7', '12', '56.7', '39.4', '17-17', '栗東高柳大', '488(+6)']] \n",
            "\n",
            "['420', '160', '720', '200', '1110', '8340', '2370', '480', '2510', '10720', '11500', '76230'] \n",
            "\n",
            "[None, '12.7', None, '23.3', None, '35.1', None, '47.0', None, '59.2', None, '1:11.3', None, '1:23.3', None, '1:35.9', None, None, None, None, None, None, None, None, None, None] \n",
            "\n"
          ],
          "name": "stdout"
        }
      ]
    },
    {
      "cell_type": "code",
      "metadata": {
        "id": "MUUFWKq7WPSV",
        "colab_type": "code",
        "colab": {}
      },
      "source": [
        ""
      ],
      "execution_count": null,
      "outputs": []
    }
  ]
}